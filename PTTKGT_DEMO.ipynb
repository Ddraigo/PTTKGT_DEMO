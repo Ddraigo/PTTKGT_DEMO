{
  "nbformat": 4,
  "nbformat_minor": 0,
  "metadata": {
    "colab": {
      "provenance": [],
      "toc_visible": true,
      "authorship_tag": "ABX9TyN8aGbcW9BW5WjhZQyv3uJ2",
      "include_colab_link": true
    },
    "kernelspec": {
      "name": "python3",
      "display_name": "Python 3"
    },
    "language_info": {
      "name": "python"
    }
  },
  "cells": [
    {
      "cell_type": "markdown",
      "metadata": {
        "id": "view-in-github",
        "colab_type": "text"
      },
      "source": [
        "<a href=\"https://colab.research.google.com/github/Ddraigo/PTTKGT_DEMO/blob/Thanh/PTTKGT_DEMO.ipynb\" target=\"_parent\"><img src=\"https://colab.research.google.com/assets/colab-badge.svg\" alt=\"Open In Colab\"/></a>"
      ]
    },
    {
      "cell_type": "code",
      "execution_count": null,
      "metadata": {
        "id": "v2PZFaqsEIzO"
      },
      "outputs": [],
      "source": []
    },
    {
      "cell_type": "markdown",
      "source": [
        "# FTKHUIM_DEMO"
      ],
      "metadata": {
        "id": "mt_NEVehGnrT"
      }
    },
    {
      "cell_type": "code",
      "source": [
        "# Thiết lập các cấu trúc và thuật toán cơ bản cho tìm kiếm tương tác Top-K itemsets trong cơ sở dữ liệu không chắc chắn\n",
        "import time\n",
        "\n",
        "\n",
        "\n",
        "\n",
        "class Item:\n",
        "    def __init__(self, name, utility, probability):\n",
        "        self.name = name\n",
        "        self.utility = utility\n",
        "        self.probability = probability\n",
        "\n",
        "class Transaction:\n",
        "    def __init__(self, items):\n",
        "        self.items = items  # danh sách các đối tượng Item\n",
        "\n",
        "class PriorityQueue:\n",
        "    def __init__(self, k):\n",
        "        self.k = k\n",
        "        self.queue = []  # danh sách hàng đợi ưu tiên cho Top-K itemsets\n",
        "\n",
        "    def insert(self, itemset, utility):\n",
        "        # Kiểm tra và chèn itemset vào hàng đợi nếu thỏa mãn điều kiện Top-K\n",
        "        if len(self.queue) < self.k:\n",
        "            self.queue.append((itemset, utility))\n",
        "            self.queue.sort(key=lambda x: x[1], reverse=True)  # Sắp xếp giảm dần theo tiện ích\n",
        "        elif utility > self.queue[-1][1]:\n",
        "            self.queue[-1] = (itemset, utility)\n",
        "            self.queue.sort(key=lambda x: x[1], reverse=True)\n",
        "\n",
        "class TopKUncertainHUI:\n",
        "    def __init__(self, transactions, k):\n",
        "        self.transactions = transactions\n",
        "        self.k = k\n",
        "        self.top_k_queue = PriorityQueue(k)\n",
        "\n",
        "    def expected_utility(self, itemset):\n",
        "        # Tính tiện ích kỳ vọng của một itemset\n",
        "        return sum(item.utility * item.probability for item in itemset)\n",
        "\n",
        "    def search(self):\n",
        "        # Lặp qua các itemset để tìm Top-K\n",
        "        for transaction in self.transactions:\n",
        "            for i in range(1, len(transaction.items) + 1):\n",
        "                itemset = transaction.items[:i]\n",
        "                utility = self.expected_utility(itemset)\n",
        "                self.top_k_queue.insert(itemset, utility)\n",
        "\n",
        "    def get_top_k(self):\n",
        "        # Trả về kết quả Top-K\n",
        "        return self.top_k_queue.queue\n",
        "\n",
        "# Thiết lập một ví dụ cơ sở dữ liệu không chắc chắn\n",
        "transactions = [\n",
        "    Transaction([Item(\"A\", 10, 0.8), Item(\"B\", 15, 0.6)]),\n",
        "    Transaction([Item(\"A\", 20, 0.7), Item(\"C\", 25, 0.5)])\n",
        "]\n",
        "\n",
        "# Chạy thuật toán\n",
        "top_k_hui = TopKUncertainHUI(transactions, k=2)\n",
        "top_k_hui.search()\n",
        "result = top_k_hui.get_top_k()\n",
        "\n",
        "# In kết quả Top-K\n",
        "for itemset, utility in result:\n",
        "    print(f\"Itemset: {[item.name for item in itemset]}, Expected Utility: {utility}\")\n",
        "\n",
        "start_time = time.time()\n",
        "top_k_hui.search()\n",
        "print(\"Thời gian chạy:\", time.time() - start_time, \"giây\")"
      ],
      "metadata": {
        "id": "muCtj6qiGvX6"
      },
      "execution_count": null,
      "outputs": []
    }
  ]
}